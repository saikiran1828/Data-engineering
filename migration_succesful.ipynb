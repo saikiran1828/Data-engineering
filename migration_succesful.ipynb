{
 "cells": [
  {
   "cell_type": "code",
   "execution_count": 17,
   "metadata": {},
   "outputs": [],
   "source": [
    "import sys\n",
    "import os\n",
    "import mysql.connector\n",
    "from mysql.connector import Error\n",
    "import psycopg2\n",
    "import pandas as pd\n",
    "import gc"
   ]
  },
  {
   "cell_type": "code",
   "execution_count": 18,
   "metadata": {},
   "outputs": [],
   "source": [
    "from sqlalchemy import create_engine"
   ]
  },
  {
   "cell_type": "code",
   "execution_count": 19,
   "metadata": {},
   "outputs": [],
   "source": [
    "outpath='C:/Users/sai kiran Reddy/Desktop/my.csv'"
   ]
  },
  {
   "cell_type": "code",
   "execution_count": 20,
   "metadata": {},
   "outputs": [],
   "source": [
    "table_list=['sai.my']"
   ]
  },
  {
   "cell_type": "code",
   "execution_count": 21,
   "metadata": {},
   "outputs": [],
   "source": [
    "dbname_trgt = 'new'\n",
    "host_trgt = 'localhost'\n",
    "port_trgt = '5432'\n",
    "user_trgt = 'postgres'\n",
    "pwd_trgt = 'saikiran'"
   ]
  },
  {
   "cell_type": "code",
   "execution_count": 22,
   "metadata": {},
   "outputs": [],
   "source": [
    "def connect_mysql():\n",
    "    try:\n",
    "        conn_src = mysql.connector.connect(host='localhost',\n",
    "                                         database='sai',\n",
    "                                         user='root',\n",
    "                                         password='1234')\n",
    "\n",
    "        print(\"You're connected to database\")\n",
    "        return conn_src\n",
    "    \n",
    "    except Error as e:\n",
    "        print(\"Error while connecting to MySQL\", e)"
   ]
  },
  {
   "cell_type": "code",
   "execution_count": 23,
   "metadata": {},
   "outputs": [],
   "source": [
    "def extract_from_source(extr_qury,tab_name):\n",
    "    print(\"read data into pandas dataframe\")\n",
    "    conn_src=connect_mysql()\n",
    "    df=pd.read_sql_query(extr_qury,conn_src)\n",
    "    df.to_csv(outpath,index=False)\n",
    "#     df=pd.read_csv(outpath,index_col=None)\n",
    "#     rec_cunt=df.count()\n",
    "#     print(\"extracted \"+rec_cunt+\" from \"+tab_name)\n",
    "    return outpath,df\n"
   ]
  },
  {
   "cell_type": "code",
   "execution_count": 24,
   "metadata": {},
   "outputs": [],
   "source": [
    "def pg_load_table(outpath, tab_name, dbname_trgt, host_trgt, port_trgt, user_trgt, pwd_trgt):\n",
    "    '''\n",
    "    This function upload csv to a target table\n",
    "    '''\n",
    "    try:\n",
    "        conn = psycopg2.connect(dbname=dbname_trgt, host=host_trgt, port=port_trgt,\\\n",
    "         user=user_trgt, password=pwd_trgt)\n",
    "        print(\"Connecting to Database\")\n",
    "        cur = conn.cursor()\n",
    "        f = open(outpath, \"r\")\n",
    "        # Truncate the table first\n",
    "        cur.execute(\"Truncate {} Cascade;\".format(tab_name))\n",
    "        print(\"Truncated {}\".format(tab_name))\n",
    "        # Load table from the file with header\n",
    "        cur.copy_expert(\"copy {} from STDIN CSV HEADER QUOTE '\\\"'\".format(tab_name), f)\n",
    "        cur.execute(\"commit;\")\n",
    "        print(\"Loaded data into {}\".format(tab_name))\n",
    "        conn.close()\n",
    "        print(\"DB connection closed.\")\n",
    "\n",
    "    except Exception as e:\n",
    "        print(\"Error: {}\".format(str(e)))\n",
    "        sys.exit(1)\n",
    "    "
   ]
  },
  {
   "cell_type": "code",
   "execution_count": 25,
   "metadata": {},
   "outputs": [
    {
     "name": "stdout",
     "output_type": "stream",
     "text": [
      "generating extract query for sai.my table\n",
      "select * from sai.my ;\n",
      "read data into pandas dataframe\n",
      "You're connected to database\n",
      "loading data into target table\n",
      "Connecting to Database\n",
      "Truncated second\n",
      "Loaded data into second\n",
      "DB connection closed.\n"
     ]
    }
   ],
   "source": [
    "if __name__ == '__main__':\n",
    "    for tab_name in table_list:\n",
    "        print(\"generating extract query for \"+tab_name+\" table\")\n",
    "        extr_qury= \"select * from \"+tab_name+\" ;\"\n",
    "        print(extr_qury)\n",
    "        df=extract_from_source(extr_qury,tab_name)\n",
    "        print(\"loading data into target table\")\n",
    "        tab_name=\"second\"\n",
    "        pg_load_table(outpath, tab_name, dbname_trgt, host_trgt, port_trgt, user_trgt, pwd_trgt)\n",
    "        del df\n",
    "        gc.collect()\n",
    "        os.remove(outpath)\n"
   ]
  },
  {
   "cell_type": "code",
   "execution_count": 13,
   "metadata": {},
   "outputs": [
    {
     "name": "stdout",
     "output_type": "stream",
     "text": [
      "select * from sai.my ;\n"
     ]
    }
   ],
   "source": [
    "print(extr_qury)"
   ]
  },
  {
   "cell_type": "code",
   "execution_count": null,
   "metadata": {},
   "outputs": [],
   "source": []
  }
 ],
 "metadata": {
  "kernelspec": {
   "display_name": "Python 3",
   "language": "python",
   "name": "python3"
  },
  "language_info": {
   "codemirror_mode": {
    "name": "ipython",
    "version": 3
   },
   "file_extension": ".py",
   "mimetype": "text/x-python",
   "name": "python",
   "nbconvert_exporter": "python",
   "pygments_lexer": "ipython3",
   "version": "3.7.4"
  }
 },
 "nbformat": 4,
 "nbformat_minor": 4
}
